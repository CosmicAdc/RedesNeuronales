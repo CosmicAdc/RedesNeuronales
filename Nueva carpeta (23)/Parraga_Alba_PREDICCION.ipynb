{
 "cells": [
  {
   "cell_type": "markdown",
   "id": "faae54bb",
   "metadata": {},
   "source": [
    "<img src=\"https://upload.wikimedia.org/wikipedia/commons/b/b0/Logo_Universidad_Politécnica_Salesiana_del_Ecuador.png\" width=\"90%\">\n",
    "<h2>Práctica 1:\n",
    "    Redes neuronales</h2>\n",
    "<h3>Integrantes: Michelle Parraga, Andrés Alba </h3>"
   ]
  },
  {
   "cell_type": "markdown",
   "id": "882316b8",
   "metadata": {},
   "source": [
    "En otro cuaderno de Jupyter cargar el modelo del archivo h5 y crear una función de predicción para un nuevo \n",
    "sample (Probar como mínimo, un caso por clase. Es decir, si hay dos clases, probar el método de predicción al \n",
    "menos con dos ejemplos, un ejemplo por cada clase)\n"
   ]
  },
  {
   "cell_type": "code",
   "execution_count": null,
   "id": "f947d9f4",
   "metadata": {},
   "outputs": [],
   "source": [
    "def predecirNuevo(country='CA',sex='female',age='30_40',height=166.0,weight=55.0,bmi=23.1,blood_type='op',insurance=np.nan,\n",
    "                        income=np.nan,race=np.nan,immigrant=np.nan,smoking='never',alcohol=0,cannabis=-1,amphetamines=-1,\n",
    "                        cocaine=-1,lsd=-1,mdma=-1,rate_reducing_risk_single=0,rate_reducing_risk_single_social_distancing=0,\n",
    "                        rate_reducing_risk_single_washing_hands=0,rate_reducing_risk_house=0,rate_reducing_risk_house_social_distancing=0,\n",
    "                        rate_reducing_risk_house_washing_hands=0,rate_reducing_risk_single_sanitizer=0,rate_reducing_mask=4,\n",
    "                        rate_government_action=1,rate_government_control=0,rate_government_spend=0,covid19_positive=0,covid19_contact=0,\n",
    "                        asthma=0,kidney_disease=0,liver_disease=0,compromised_immune=0,heart_disease=0,lung_disease=0,diabetes=0,\n",
    "                        hiv_positive=0,hypertension=0,other_chronic=0,nursing_home=0):\n",
    "    cnames = ['country','sex','age','height','weight','bmi','blood_type','insurance','income','race','immigrant','smoking','alcohol','cannabis','amphetamines','cocaine','lsd','mdma','rate_reducing_risk_single','rate_reducing_risk_single_social_distancing','rate_reducing_risk_single_washing_hands','rate_reducing_risk_house','rate_reducing_risk_house_social_distancing','rate_reducing_risk_house_washing_hands','rate_reducing_risk_single_sanitizer','rate_reducing_mask','rate_government_action','rate_government_control','rate_government_spend','covid19_positive','covid19_contact','asthma','kidney_disease','liver_disease','compromised_immune','heart_disease','lung_disease','diabetes','hiv_positive','hypertension','other_chronic','nursing_home']\n",
    "    Xnew = [country,sex,age,height,weight,bmi,blood_type,insurance,income,race,immigrant,smoking,alcohol,cannabis,amphetamines,cocaine,lsd,mdma,rate_reducing_risk_single,rate_reducing_risk_single_social_distancing,rate_reducing_risk_single_washing_hands,rate_reducing_risk_house,rate_reducing_risk_house_social_distancing,rate_reducing_risk_house_washing_hands,rate_reducing_risk_single_sanitizer,rate_reducing_mask,rate_government_action,rate_government_control,rate_government_spend,covid19_positive,covid19_contact,asthma,kidney_disease,liver_disease,compromised_immune,heart_disease,lung_disease,diabetes,hiv_positive,hypertension,other_chronic,nursing_home]\n",
    "    Xnew_Dataframe = pd.DataFrame(data=[Xnew], columns=cnames)\n",
    "    \n",
    "\n",
    "    pipe=cargarPipeline(\"pipePreprocesadores\")\n",
    "    Xnew_Transformado=pipe.transform(Xnew_Dataframe)\n",
    "   \n",
    "    dataframeTransformado=cr.drop(['risk_mortality'], axis=1)\n",
    "    Xnew_Transformado = pd.DataFrame(Xnew_Transformado, columns=dataframeTransformado.columns)\n",
    "\n",
    "    variables_extraccion = ['age_80_90','age_90_100','age_70_80','age_30_40','age_20_30','sex_female']\n",
    "    Xnew_Transformado=Xnew_Transformado[variables_extraccion]\n",
    "    \n",
    "    y_pred = model.predict(Xnew_Transformado)\n",
    "    predicciones, marcas, certezas = obtenerResultadosyCertezas(y_pred)\n",
    "    dataframeFinal = pd.DataFrame({'Predicción': predicciones, 'Resultado': marcas, 'Certeza': certezas})\n",
    "    np.set_printoptions(formatter={'float': lambda X: \"{0:0.0f}\".format(X)})\n",
    "    return dataframeFinal\n",
    "\n",
    "predecirNuevo() "
   ]
  },
  {
   "cell_type": "code",
   "execution_count": null,
   "id": "8ea87b1a",
   "metadata": {},
   "outputs": [],
   "source": [
    "dataframeFinal=predecirNuevo(country='CA',sex='female',age='70_80',height=166.0,weight=55.0,bmi=23.1,blood_type='op',insurance=np.nan,\n",
    "                        income=np.nan,race=np.nan,immigrant=np.nan,smoking='never',alcohol=0,cannabis=-1,amphetamines=-1,\n",
    "                        cocaine=-1,lsd=-1,mdma=-1,rate_reducing_risk_single=0,rate_reducing_risk_single_social_distancing=0,\n",
    "                        rate_reducing_risk_single_washing_hands=0,rate_reducing_risk_house=0,rate_reducing_risk_house_social_distancing=0,\n",
    "                        rate_reducing_risk_house_washing_hands=0,rate_reducing_risk_single_sanitizer=0,rate_reducing_mask=4,\n",
    "                        rate_government_action=1,rate_government_control=0,rate_government_spend=0,covid19_positive=0,covid19_contact=0,\n",
    "                        asthma=0,kidney_disease=0,liver_disease=0,compromised_immune=0,heart_disease=0,lung_disease=0,diabetes=0,\n",
    "                        hiv_positive=0,hypertension=0,other_chronic=0,nursing_home=0)\n",
    "dataframeFinal.head()"
   ]
  }
 ],
 "metadata": {
  "kernelspec": {
   "display_name": "Python 3 (ipykernel)",
   "language": "python",
   "name": "python3"
  },
  "language_info": {
   "codemirror_mode": {
    "name": "ipython",
    "version": 3
   },
   "file_extension": ".py",
   "mimetype": "text/x-python",
   "name": "python",
   "nbconvert_exporter": "python",
   "pygments_lexer": "ipython3",
   "version": "3.10.9"
  }
 },
 "nbformat": 4,
 "nbformat_minor": 5
}
