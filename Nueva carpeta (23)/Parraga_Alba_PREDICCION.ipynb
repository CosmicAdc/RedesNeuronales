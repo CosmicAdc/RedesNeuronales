{
 "cells": [
  {
   "cell_type": "markdown",
   "id": "4f8b9158",
   "metadata": {},
   "source": [
    "<img src=\"https://upload.wikimedia.org/wikipedia/commons/b/b0/Logo_Universidad_Politécnica_Salesiana_del_Ecuador.png\" width=\"90%\">\n",
    "<h2>Práctica 1:\n",
    "    Redes neuronales</h2>\n",
    "<h3>Integrantes: Michelle Parraga, Andrés Alba </h3>"
   ]
  },
  {
   "cell_type": "markdown",
   "id": "4634b272",
   "metadata": {},
   "source": [
    "En otro cuaderno de Jupyter cargar el modelo del archivo h5 y crear una función de predicción para un nuevo \n",
    "sample (Probar como mínimo, un caso por clase. Es decir, si hay dos clases, probar el método de predicción al \n",
    "menos con dos ejemplos, un ejemplo por cada clase)\n"
   ]
  },
  {
   "cell_type": "code",
   "execution_count": 15,
   "id": "b563035c",
   "metadata": {},
   "outputs": [
    {
     "name": "stdout",
     "output_type": "stream",
     "text": [
      "Funciones definidas\n"
     ]
    }
   ],
   "source": [
    "import joblib\n",
    "import pandas as pd\n",
    "import numpy as np\n",
    "import pickle\n",
    "import keras\n",
    "from keras.models import load_model\n",
    "import numpy as np\n",
    "\n",
    "def cargarPipeline(nombreArchivo):\n",
    "    with open(nombreArchivo+'.pickle', 'rb') as handle:\n",
    "        pipeline = pickle.load(handle)\n",
    "    return pipeline\n",
    "def cargarRNN(nombreArchivo):\n",
    "    model = load_model(nombreArchivo+'.h5')    \n",
    "    print(\"Red Neuronal Cargada desde Archivo\") \n",
    "    return model\n",
    "\n",
    "\n",
    "def obtenerResultadosyCertezas(lista):\n",
    "    predicciones=lista\n",
    "    marcas=[]\n",
    "    certezas=[]\n",
    "    nuevomax=1\n",
    "    nuevomin=0\n",
    "    marca=-1\n",
    "    certeza=-1\n",
    "    for i in range(len(lista)):\n",
    "        prediccion=lista[i]\n",
    "        if (prediccion < 0.5):\n",
    "            marca = 'NO Tiene Hepatitis'\n",
    "            maxa=0.5\n",
    "            mina=0\n",
    "            certeza=1-((prediccion-mina)/(maxa-mina)*(nuevomax-nuevomin)+nuevomin)\n",
    "            certeza=str(int((certeza)*100))+'%'\n",
    "        elif (prediccion >= 0.5):\n",
    "            marca = 'Tiene Hepatitis'\n",
    "            maxa=1\n",
    "            mina=0.5\n",
    "            certeza=(prediccion-mina)/(maxa-mina)*(nuevomax-nuevomin)+nuevomin\n",
    "            certeza=str(int((certeza)*100))+'%'\n",
    "        marcas.append(marca)\n",
    "        certezas.append(certeza)\n",
    "    return prediccion, marcas, certezas\n",
    "\n",
    "\n",
    "print('Funciones definidas')\n"
   ]
  },
  {
   "cell_type": "code",
   "execution_count": 23,
   "id": "a5b6ab8c",
   "metadata": {},
   "outputs": [
    {
     "name": "stdout",
     "output_type": "stream",
     "text": [
      "Red Neuronal Cargada desde Archivo\n",
      "Características del primer paso:\n",
      "['catnom__SEXO_1' 'catnom__SEXO_2' 'catnom__ESTEROIDES_0'\n",
      " 'catnom__ESTEROIDES_1' 'catnom__ESTEROIDES_2' 'catnom__ANTIVIRALES_1'\n",
      " 'catnom__ANTIVIRALES_2' 'catnom__FATIGA_0' 'catnom__FATIGA_1'\n",
      " 'catnom__FATIGA_2' 'catnom__MALESTAR_0' 'catnom__MALESTAR_1'\n",
      " 'catnom__MALESTAR_2' 'catnom__ANOREXIA_0' 'catnom__ANOREXIA_1'\n",
      " 'catnom__ANOREXIA_2' 'catnom__ HÍGADO GRANDE_0'\n",
      " 'catnom__ HÍGADO GRANDE_1' 'catnom__ HÍGADO GRANDE_2'\n",
      " 'catnom__HÍGADO FIRME_0' 'catnom__HÍGADO FIRME_1'\n",
      " 'catnom__HÍGADO FIRME_2' 'catnom__ESPÍLEO PALPABLE_0'\n",
      " 'catnom__ESPÍLEO PALPABLE_1' 'catnom__ESPÍLEO PALPABLE_2'\n",
      " 'catnom__ARAÑAS_0' 'catnom__ARAÑAS_1' 'catnom__ARAÑAS_2'\n",
      " 'catnom__ASCITIS_0' 'catnom__ASCITIS_1' 'catnom__ASCITIS_2'\n",
      " 'catnom__VARICES_0' 'catnom__VARICES_1' 'catnom__VARICES_2'\n",
      " 'remainder__EDAD' 'remainder__BILIRRUBINA' 'remainder__ALK FOSFATO'\n",
      " 'remainder__SGOT' 'remainder__ALBÚMINA' 'remainder__PROTIMA']\n"
     ]
    }
   ],
   "source": [
    "pipe=cargarPipeline(\"pipePreprocesadores\")\n",
    "model=cargarRNN(\"RNNHepatitis\")\n",
    "transformador1 = pipe.named_steps['prepcn']\n",
    "caracteristicas1 = transformador1.get_feature_names_out()\n",
    "print(\"Características del primer paso:\")\n",
    "print(caracteristicas1)"
   ]
  },
  {
   "cell_type": "code",
   "execution_count": 25,
   "id": "ffea0a9c",
   "metadata": {},
   "outputs": [
    {
     "name": "stdout",
     "output_type": "stream",
     "text": [
      "(1, 18)\n"
     ]
    },
    {
     "ename": "TypeError",
     "evalue": "ufunc 'isnan' not supported for the input types, and the inputs could not be safely coerced to any supported types according to the casting rule ''safe''",
     "output_type": "error",
     "traceback": [
      "\u001b[1;31m---------------------------------------------------------------------------\u001b[0m",
      "\u001b[1;31m_RemoteTraceback\u001b[0m                          Traceback (most recent call last)",
      "\u001b[1;31m_RemoteTraceback\u001b[0m: \n\"\"\"\nTraceback (most recent call last):\n  File \"C:\\Users\\Miche\\anaconda3\\lib\\site-packages\\joblib\\externals\\loky\\process_executor.py\", line 436, in _process_worker\n    r = call_item()\n  File \"C:\\Users\\Miche\\anaconda3\\lib\\site-packages\\joblib\\externals\\loky\\process_executor.py\", line 288, in __call__\n    return self.fn(*self.args, **self.kwargs)\n  File \"C:\\Users\\Miche\\anaconda3\\lib\\site-packages\\joblib\\_parallel_backends.py\", line 595, in __call__\n    return self.func(*args, **kwargs)\n  File \"C:\\Users\\Miche\\anaconda3\\lib\\site-packages\\joblib\\parallel.py\", line 263, in __call__\n    return [func(*args, **kwargs)\n  File \"C:\\Users\\Miche\\anaconda3\\lib\\site-packages\\joblib\\parallel.py\", line 263, in <listcomp>\n    return [func(*args, **kwargs)\n  File \"C:\\Users\\Miche\\anaconda3\\lib\\site-packages\\sklearn\\utils\\parallel.py\", line 123, in __call__\n    return self.function(*args, **kwargs)\n  File \"C:\\Users\\Miche\\anaconda3\\lib\\site-packages\\sklearn\\pipeline.py\", line 876, in _transform_one\n    res = transformer.transform(X)\n  File \"C:\\Users\\Miche\\anaconda3\\lib\\site-packages\\sklearn\\pipeline.py\", line 658, in transform\n    Xt = transform.transform(Xt)\n  File \"C:\\Users\\Miche\\anaconda3\\lib\\site-packages\\sklearn\\utils\\_set_output.py\", line 142, in wrapped\n    data_to_wrap = f(self, X, *args, **kwargs)\n  File \"C:\\Users\\Miche\\anaconda3\\lib\\site-packages\\sklearn\\preprocessing\\_encoders.py\", line 877, in transform\n    X_int, X_mask = self._transform(\n  File \"C:\\Users\\Miche\\anaconda3\\lib\\site-packages\\sklearn\\preprocessing\\_encoders.py\", line 166, in _transform\n    diff, valid_mask = _check_unknown(Xi, self.categories_[i], return_mask=True)\n  File \"C:\\Users\\Miche\\anaconda3\\lib\\site-packages\\sklearn\\utils\\_encode.py\", line 303, in _check_unknown\n    if np.isnan(known_values).any():\nTypeError: ufunc 'isnan' not supported for the input types, and the inputs could not be safely coerced to any supported types according to the casting rule ''safe''\n\"\"\"",
      "\nThe above exception was the direct cause of the following exception:\n",
      "\u001b[1;31mTypeError\u001b[0m                                 Traceback (most recent call last)",
      "Cell \u001b[1;32mIn[25], line 16\u001b[0m\n\u001b[0;32m     13\u001b[0m     Xnew_Transformado_filled \u001b[38;5;241m=\u001b[39m imputer\u001b[38;5;241m.\u001b[39mfit_transform(Xnew_Transformado)\n\u001b[0;32m     15\u001b[0m     \u001b[38;5;28mprint\u001b[39m (Xnew_Transformado_filled)\n\u001b[1;32m---> 16\u001b[0m \u001b[43mpredecirNuevoPaciente\u001b[49m\u001b[43m(\u001b[49m\u001b[43m)\u001b[49m\n",
      "Cell \u001b[1;32mIn[25], line 9\u001b[0m, in \u001b[0;36mpredecirNuevoPaciente\u001b[1;34m(EDAD, SEXO, ESTEROIDES, ANTIVIRALES, FATIGA, MALESTAR, ANOREXIA, HÍGADOGRANDE, HÍGADOFIRME, ESPÍLEOPALPABLE, ARAÑAS, ASCITIS, VARICES, BILIRRUBINA, ALKFOSFATO, SGOT, ALBÚMINA, PROTIMA)\u001b[0m\n\u001b[0;32m      7\u001b[0m \u001b[38;5;28mprint\u001b[39m(Xnew_Dataframe\u001b[38;5;241m.\u001b[39mshape)\n\u001b[0;32m      8\u001b[0m \u001b[38;5;66;03m#pipe = cargarPipeline(\"pipePreprocesadores\")\u001b[39;00m\n\u001b[1;32m----> 9\u001b[0m Xnew_Transformado \u001b[38;5;241m=\u001b[39m \u001b[43mpipe\u001b[49m\u001b[38;5;241;43m.\u001b[39;49m\u001b[43mtransform\u001b[49m\u001b[43m(\u001b[49m\u001b[43mXnew_Dataframe\u001b[49m\u001b[43m)\u001b[49m\n\u001b[0;32m     11\u001b[0m \u001b[38;5;66;03m#modelo = cargarModelo(\"modeloOptimizadoKNN\")\u001b[39;00m\n\u001b[0;32m     12\u001b[0m imputer \u001b[38;5;241m=\u001b[39m SimpleImputer(strategy\u001b[38;5;241m=\u001b[39m\u001b[38;5;124m'\u001b[39m\u001b[38;5;124mmean\u001b[39m\u001b[38;5;124m'\u001b[39m)\n",
      "File \u001b[1;32m~\\anaconda3\\lib\\site-packages\\sklearn\\pipeline.py:658\u001b[0m, in \u001b[0;36mPipeline.transform\u001b[1;34m(self, X)\u001b[0m\n\u001b[0;32m    656\u001b[0m Xt \u001b[38;5;241m=\u001b[39m X\n\u001b[0;32m    657\u001b[0m \u001b[38;5;28;01mfor\u001b[39;00m _, _, transform \u001b[38;5;129;01min\u001b[39;00m \u001b[38;5;28mself\u001b[39m\u001b[38;5;241m.\u001b[39m_iter():\n\u001b[1;32m--> 658\u001b[0m     Xt \u001b[38;5;241m=\u001b[39m \u001b[43mtransform\u001b[49m\u001b[38;5;241;43m.\u001b[39;49m\u001b[43mtransform\u001b[49m\u001b[43m(\u001b[49m\u001b[43mXt\u001b[49m\u001b[43m)\u001b[49m\n\u001b[0;32m    659\u001b[0m \u001b[38;5;28;01mreturn\u001b[39;00m Xt\n",
      "File \u001b[1;32m~\\anaconda3\\lib\\site-packages\\sklearn\\utils\\_set_output.py:142\u001b[0m, in \u001b[0;36m_wrap_method_output.<locals>.wrapped\u001b[1;34m(self, X, *args, **kwargs)\u001b[0m\n\u001b[0;32m    140\u001b[0m \u001b[38;5;129m@wraps\u001b[39m(f)\n\u001b[0;32m    141\u001b[0m \u001b[38;5;28;01mdef\u001b[39;00m \u001b[38;5;21mwrapped\u001b[39m(\u001b[38;5;28mself\u001b[39m, X, \u001b[38;5;241m*\u001b[39margs, \u001b[38;5;241m*\u001b[39m\u001b[38;5;241m*\u001b[39mkwargs):\n\u001b[1;32m--> 142\u001b[0m     data_to_wrap \u001b[38;5;241m=\u001b[39m f(\u001b[38;5;28mself\u001b[39m, X, \u001b[38;5;241m*\u001b[39margs, \u001b[38;5;241m*\u001b[39m\u001b[38;5;241m*\u001b[39mkwargs)\n\u001b[0;32m    143\u001b[0m     \u001b[38;5;28;01mif\u001b[39;00m \u001b[38;5;28misinstance\u001b[39m(data_to_wrap, \u001b[38;5;28mtuple\u001b[39m):\n\u001b[0;32m    144\u001b[0m         \u001b[38;5;66;03m# only wrap the first output for cross decomposition\u001b[39;00m\n\u001b[0;32m    145\u001b[0m         \u001b[38;5;28;01mreturn\u001b[39;00m (\n\u001b[0;32m    146\u001b[0m             _wrap_data_with_container(method, data_to_wrap[\u001b[38;5;241m0\u001b[39m], X, \u001b[38;5;28mself\u001b[39m),\n\u001b[0;32m    147\u001b[0m             \u001b[38;5;241m*\u001b[39mdata_to_wrap[\u001b[38;5;241m1\u001b[39m:],\n\u001b[0;32m    148\u001b[0m         )\n",
      "File \u001b[1;32m~\\anaconda3\\lib\\site-packages\\sklearn\\compose\\_column_transformer.py:800\u001b[0m, in \u001b[0;36mColumnTransformer.transform\u001b[1;34m(self, X)\u001b[0m\n\u001b[0;32m    795\u001b[0m \u001b[38;5;28;01melse\u001b[39;00m:\n\u001b[0;32m    796\u001b[0m     \u001b[38;5;66;03m# ndarray was used for fitting or transforming, thus we only\u001b[39;00m\n\u001b[0;32m    797\u001b[0m     \u001b[38;5;66;03m# check that n_features_in_ is consistent\u001b[39;00m\n\u001b[0;32m    798\u001b[0m     \u001b[38;5;28mself\u001b[39m\u001b[38;5;241m.\u001b[39m_check_n_features(X, reset\u001b[38;5;241m=\u001b[39m\u001b[38;5;28;01mFalse\u001b[39;00m)\n\u001b[1;32m--> 800\u001b[0m Xs \u001b[38;5;241m=\u001b[39m \u001b[38;5;28;43mself\u001b[39;49m\u001b[38;5;241;43m.\u001b[39;49m\u001b[43m_fit_transform\u001b[49m\u001b[43m(\u001b[49m\n\u001b[0;32m    801\u001b[0m \u001b[43m    \u001b[49m\u001b[43mX\u001b[49m\u001b[43m,\u001b[49m\n\u001b[0;32m    802\u001b[0m \u001b[43m    \u001b[49m\u001b[38;5;28;43;01mNone\u001b[39;49;00m\u001b[43m,\u001b[49m\n\u001b[0;32m    803\u001b[0m \u001b[43m    \u001b[49m\u001b[43m_transform_one\u001b[49m\u001b[43m,\u001b[49m\n\u001b[0;32m    804\u001b[0m \u001b[43m    \u001b[49m\u001b[43mfitted\u001b[49m\u001b[38;5;241;43m=\u001b[39;49m\u001b[38;5;28;43;01mTrue\u001b[39;49;00m\u001b[43m,\u001b[49m\n\u001b[0;32m    805\u001b[0m \u001b[43m    \u001b[49m\u001b[43mcolumn_as_strings\u001b[49m\u001b[38;5;241;43m=\u001b[39;49m\u001b[43mfit_dataframe_and_transform_dataframe\u001b[49m\u001b[43m,\u001b[49m\n\u001b[0;32m    806\u001b[0m \u001b[43m\u001b[49m\u001b[43m)\u001b[49m\n\u001b[0;32m    807\u001b[0m \u001b[38;5;28mself\u001b[39m\u001b[38;5;241m.\u001b[39m_validate_output(Xs)\n\u001b[0;32m    809\u001b[0m \u001b[38;5;28;01mif\u001b[39;00m \u001b[38;5;129;01mnot\u001b[39;00m Xs:\n\u001b[0;32m    810\u001b[0m     \u001b[38;5;66;03m# All transformers are None\u001b[39;00m\n",
      "File \u001b[1;32m~\\anaconda3\\lib\\site-packages\\sklearn\\compose\\_column_transformer.py:658\u001b[0m, in \u001b[0;36mColumnTransformer._fit_transform\u001b[1;34m(self, X, y, func, fitted, column_as_strings)\u001b[0m\n\u001b[0;32m    652\u001b[0m transformers \u001b[38;5;241m=\u001b[39m \u001b[38;5;28mlist\u001b[39m(\n\u001b[0;32m    653\u001b[0m     \u001b[38;5;28mself\u001b[39m\u001b[38;5;241m.\u001b[39m_iter(\n\u001b[0;32m    654\u001b[0m         fitted\u001b[38;5;241m=\u001b[39mfitted, replace_strings\u001b[38;5;241m=\u001b[39m\u001b[38;5;28;01mTrue\u001b[39;00m, column_as_strings\u001b[38;5;241m=\u001b[39mcolumn_as_strings\n\u001b[0;32m    655\u001b[0m     )\n\u001b[0;32m    656\u001b[0m )\n\u001b[0;32m    657\u001b[0m \u001b[38;5;28;01mtry\u001b[39;00m:\n\u001b[1;32m--> 658\u001b[0m     \u001b[38;5;28;01mreturn\u001b[39;00m \u001b[43mParallel\u001b[49m\u001b[43m(\u001b[49m\u001b[43mn_jobs\u001b[49m\u001b[38;5;241;43m=\u001b[39;49m\u001b[38;5;28;43mself\u001b[39;49m\u001b[38;5;241;43m.\u001b[39;49m\u001b[43mn_jobs\u001b[49m\u001b[43m)\u001b[49m\u001b[43m(\u001b[49m\n\u001b[0;32m    659\u001b[0m \u001b[43m        \u001b[49m\u001b[43mdelayed\u001b[49m\u001b[43m(\u001b[49m\u001b[43mfunc\u001b[49m\u001b[43m)\u001b[49m\u001b[43m(\u001b[49m\n\u001b[0;32m    660\u001b[0m \u001b[43m            \u001b[49m\u001b[43mtransformer\u001b[49m\u001b[38;5;241;43m=\u001b[39;49m\u001b[43mclone\u001b[49m\u001b[43m(\u001b[49m\u001b[43mtrans\u001b[49m\u001b[43m)\u001b[49m\u001b[43m \u001b[49m\u001b[38;5;28;43;01mif\u001b[39;49;00m\u001b[43m \u001b[49m\u001b[38;5;129;43;01mnot\u001b[39;49;00m\u001b[43m \u001b[49m\u001b[43mfitted\u001b[49m\u001b[43m \u001b[49m\u001b[38;5;28;43;01melse\u001b[39;49;00m\u001b[43m \u001b[49m\u001b[43mtrans\u001b[49m\u001b[43m,\u001b[49m\n\u001b[0;32m    661\u001b[0m \u001b[43m            \u001b[49m\u001b[43mX\u001b[49m\u001b[38;5;241;43m=\u001b[39;49m\u001b[43m_safe_indexing\u001b[49m\u001b[43m(\u001b[49m\u001b[43mX\u001b[49m\u001b[43m,\u001b[49m\u001b[43m \u001b[49m\u001b[43mcolumn\u001b[49m\u001b[43m,\u001b[49m\u001b[43m \u001b[49m\u001b[43maxis\u001b[49m\u001b[38;5;241;43m=\u001b[39;49m\u001b[38;5;241;43m1\u001b[39;49m\u001b[43m)\u001b[49m\u001b[43m,\u001b[49m\n\u001b[0;32m    662\u001b[0m \u001b[43m            \u001b[49m\u001b[43my\u001b[49m\u001b[38;5;241;43m=\u001b[39;49m\u001b[43my\u001b[49m\u001b[43m,\u001b[49m\n\u001b[0;32m    663\u001b[0m \u001b[43m            \u001b[49m\u001b[43mweight\u001b[49m\u001b[38;5;241;43m=\u001b[39;49m\u001b[43mweight\u001b[49m\u001b[43m,\u001b[49m\n\u001b[0;32m    664\u001b[0m \u001b[43m            \u001b[49m\u001b[43mmessage_clsname\u001b[49m\u001b[38;5;241;43m=\u001b[39;49m\u001b[38;5;124;43m\"\u001b[39;49m\u001b[38;5;124;43mColumnTransformer\u001b[39;49m\u001b[38;5;124;43m\"\u001b[39;49m\u001b[43m,\u001b[49m\n\u001b[0;32m    665\u001b[0m \u001b[43m            \u001b[49m\u001b[43mmessage\u001b[49m\u001b[38;5;241;43m=\u001b[39;49m\u001b[38;5;28;43mself\u001b[39;49m\u001b[38;5;241;43m.\u001b[39;49m\u001b[43m_log_message\u001b[49m\u001b[43m(\u001b[49m\u001b[43mname\u001b[49m\u001b[43m,\u001b[49m\u001b[43m \u001b[49m\u001b[43midx\u001b[49m\u001b[43m,\u001b[49m\u001b[43m \u001b[49m\u001b[38;5;28;43mlen\u001b[39;49m\u001b[43m(\u001b[49m\u001b[43mtransformers\u001b[49m\u001b[43m)\u001b[49m\u001b[43m)\u001b[49m\u001b[43m,\u001b[49m\n\u001b[0;32m    666\u001b[0m \u001b[43m        \u001b[49m\u001b[43m)\u001b[49m\n\u001b[0;32m    667\u001b[0m \u001b[43m        \u001b[49m\u001b[38;5;28;43;01mfor\u001b[39;49;00m\u001b[43m \u001b[49m\u001b[43midx\u001b[49m\u001b[43m,\u001b[49m\u001b[43m \u001b[49m\u001b[43m(\u001b[49m\u001b[43mname\u001b[49m\u001b[43m,\u001b[49m\u001b[43m \u001b[49m\u001b[43mtrans\u001b[49m\u001b[43m,\u001b[49m\u001b[43m \u001b[49m\u001b[43mcolumn\u001b[49m\u001b[43m,\u001b[49m\u001b[43m \u001b[49m\u001b[43mweight\u001b[49m\u001b[43m)\u001b[49m\u001b[43m \u001b[49m\u001b[38;5;129;43;01min\u001b[39;49;00m\u001b[43m \u001b[49m\u001b[38;5;28;43menumerate\u001b[39;49m\u001b[43m(\u001b[49m\u001b[43mtransformers\u001b[49m\u001b[43m,\u001b[49m\u001b[43m \u001b[49m\u001b[38;5;241;43m1\u001b[39;49m\u001b[43m)\u001b[49m\n\u001b[0;32m    668\u001b[0m \u001b[43m    \u001b[49m\u001b[43m)\u001b[49m\n\u001b[0;32m    669\u001b[0m \u001b[38;5;28;01mexcept\u001b[39;00m \u001b[38;5;167;01mValueError\u001b[39;00m \u001b[38;5;28;01mas\u001b[39;00m e:\n\u001b[0;32m    670\u001b[0m     \u001b[38;5;28;01mif\u001b[39;00m \u001b[38;5;124m\"\u001b[39m\u001b[38;5;124mExpected 2D array, got 1D array instead\u001b[39m\u001b[38;5;124m\"\u001b[39m \u001b[38;5;129;01min\u001b[39;00m \u001b[38;5;28mstr\u001b[39m(e):\n",
      "File \u001b[1;32m~\\anaconda3\\lib\\site-packages\\sklearn\\utils\\parallel.py:63\u001b[0m, in \u001b[0;36mParallel.__call__\u001b[1;34m(self, iterable)\u001b[0m\n\u001b[0;32m     58\u001b[0m config \u001b[38;5;241m=\u001b[39m get_config()\n\u001b[0;32m     59\u001b[0m iterable_with_config \u001b[38;5;241m=\u001b[39m (\n\u001b[0;32m     60\u001b[0m     (_with_config(delayed_func, config), args, kwargs)\n\u001b[0;32m     61\u001b[0m     \u001b[38;5;28;01mfor\u001b[39;00m delayed_func, args, kwargs \u001b[38;5;129;01min\u001b[39;00m iterable\n\u001b[0;32m     62\u001b[0m )\n\u001b[1;32m---> 63\u001b[0m \u001b[38;5;28;01mreturn\u001b[39;00m \u001b[38;5;28;43msuper\u001b[39;49m\u001b[43m(\u001b[49m\u001b[43m)\u001b[49m\u001b[38;5;241;43m.\u001b[39;49m\u001b[38;5;21;43m__call__\u001b[39;49m\u001b[43m(\u001b[49m\u001b[43miterable_with_config\u001b[49m\u001b[43m)\u001b[49m\n",
      "File \u001b[1;32m~\\anaconda3\\lib\\site-packages\\joblib\\parallel.py:1061\u001b[0m, in \u001b[0;36mParallel.__call__\u001b[1;34m(self, iterable)\u001b[0m\n\u001b[0;32m   1058\u001b[0m     \u001b[38;5;28mself\u001b[39m\u001b[38;5;241m.\u001b[39m_iterating \u001b[38;5;241m=\u001b[39m \u001b[38;5;28;01mFalse\u001b[39;00m\n\u001b[0;32m   1060\u001b[0m \u001b[38;5;28;01mwith\u001b[39;00m \u001b[38;5;28mself\u001b[39m\u001b[38;5;241m.\u001b[39m_backend\u001b[38;5;241m.\u001b[39mretrieval_context():\n\u001b[1;32m-> 1061\u001b[0m     \u001b[38;5;28;43mself\u001b[39;49m\u001b[38;5;241;43m.\u001b[39;49m\u001b[43mretrieve\u001b[49m\u001b[43m(\u001b[49m\u001b[43m)\u001b[49m\n\u001b[0;32m   1062\u001b[0m \u001b[38;5;66;03m# Make sure that we get a last message telling us we are done\u001b[39;00m\n\u001b[0;32m   1063\u001b[0m elapsed_time \u001b[38;5;241m=\u001b[39m time\u001b[38;5;241m.\u001b[39mtime() \u001b[38;5;241m-\u001b[39m \u001b[38;5;28mself\u001b[39m\u001b[38;5;241m.\u001b[39m_start_time\n",
      "File \u001b[1;32m~\\anaconda3\\lib\\site-packages\\joblib\\parallel.py:938\u001b[0m, in \u001b[0;36mParallel.retrieve\u001b[1;34m(self)\u001b[0m\n\u001b[0;32m    936\u001b[0m \u001b[38;5;28;01mtry\u001b[39;00m:\n\u001b[0;32m    937\u001b[0m     \u001b[38;5;28;01mif\u001b[39;00m \u001b[38;5;28mgetattr\u001b[39m(\u001b[38;5;28mself\u001b[39m\u001b[38;5;241m.\u001b[39m_backend, \u001b[38;5;124m'\u001b[39m\u001b[38;5;124msupports_timeout\u001b[39m\u001b[38;5;124m'\u001b[39m, \u001b[38;5;28;01mFalse\u001b[39;00m):\n\u001b[1;32m--> 938\u001b[0m         \u001b[38;5;28mself\u001b[39m\u001b[38;5;241m.\u001b[39m_output\u001b[38;5;241m.\u001b[39mextend(\u001b[43mjob\u001b[49m\u001b[38;5;241;43m.\u001b[39;49m\u001b[43mget\u001b[49m\u001b[43m(\u001b[49m\u001b[43mtimeout\u001b[49m\u001b[38;5;241;43m=\u001b[39;49m\u001b[38;5;28;43mself\u001b[39;49m\u001b[38;5;241;43m.\u001b[39;49m\u001b[43mtimeout\u001b[49m\u001b[43m)\u001b[49m)\n\u001b[0;32m    939\u001b[0m     \u001b[38;5;28;01melse\u001b[39;00m:\n\u001b[0;32m    940\u001b[0m         \u001b[38;5;28mself\u001b[39m\u001b[38;5;241m.\u001b[39m_output\u001b[38;5;241m.\u001b[39mextend(job\u001b[38;5;241m.\u001b[39mget())\n",
      "File \u001b[1;32m~\\anaconda3\\lib\\site-packages\\joblib\\_parallel_backends.py:542\u001b[0m, in \u001b[0;36mLokyBackend.wrap_future_result\u001b[1;34m(future, timeout)\u001b[0m\n\u001b[0;32m    539\u001b[0m \u001b[38;5;124;03m\"\"\"Wrapper for Future.result to implement the same behaviour as\u001b[39;00m\n\u001b[0;32m    540\u001b[0m \u001b[38;5;124;03mAsyncResults.get from multiprocessing.\"\"\"\u001b[39;00m\n\u001b[0;32m    541\u001b[0m \u001b[38;5;28;01mtry\u001b[39;00m:\n\u001b[1;32m--> 542\u001b[0m     \u001b[38;5;28;01mreturn\u001b[39;00m \u001b[43mfuture\u001b[49m\u001b[38;5;241;43m.\u001b[39;49m\u001b[43mresult\u001b[49m\u001b[43m(\u001b[49m\u001b[43mtimeout\u001b[49m\u001b[38;5;241;43m=\u001b[39;49m\u001b[43mtimeout\u001b[49m\u001b[43m)\u001b[49m\n\u001b[0;32m    543\u001b[0m \u001b[38;5;28;01mexcept\u001b[39;00m CfTimeoutError \u001b[38;5;28;01mas\u001b[39;00m e:\n\u001b[0;32m    544\u001b[0m     \u001b[38;5;28;01mraise\u001b[39;00m \u001b[38;5;167;01mTimeoutError\u001b[39;00m \u001b[38;5;28;01mfrom\u001b[39;00m \u001b[38;5;21;01me\u001b[39;00m\n",
      "File \u001b[1;32m~\\anaconda3\\lib\\concurrent\\futures\\_base.py:458\u001b[0m, in \u001b[0;36mFuture.result\u001b[1;34m(self, timeout)\u001b[0m\n\u001b[0;32m    456\u001b[0m     \u001b[38;5;28;01mraise\u001b[39;00m CancelledError()\n\u001b[0;32m    457\u001b[0m \u001b[38;5;28;01melif\u001b[39;00m \u001b[38;5;28mself\u001b[39m\u001b[38;5;241m.\u001b[39m_state \u001b[38;5;241m==\u001b[39m FINISHED:\n\u001b[1;32m--> 458\u001b[0m     \u001b[38;5;28;01mreturn\u001b[39;00m \u001b[38;5;28;43mself\u001b[39;49m\u001b[38;5;241;43m.\u001b[39;49m\u001b[43m__get_result\u001b[49m\u001b[43m(\u001b[49m\u001b[43m)\u001b[49m\n\u001b[0;32m    459\u001b[0m \u001b[38;5;28;01melse\u001b[39;00m:\n\u001b[0;32m    460\u001b[0m     \u001b[38;5;28;01mraise\u001b[39;00m \u001b[38;5;167;01mTimeoutError\u001b[39;00m()\n",
      "File \u001b[1;32m~\\anaconda3\\lib\\concurrent\\futures\\_base.py:403\u001b[0m, in \u001b[0;36mFuture.__get_result\u001b[1;34m(self)\u001b[0m\n\u001b[0;32m    401\u001b[0m \u001b[38;5;28;01mif\u001b[39;00m \u001b[38;5;28mself\u001b[39m\u001b[38;5;241m.\u001b[39m_exception:\n\u001b[0;32m    402\u001b[0m     \u001b[38;5;28;01mtry\u001b[39;00m:\n\u001b[1;32m--> 403\u001b[0m         \u001b[38;5;28;01mraise\u001b[39;00m \u001b[38;5;28mself\u001b[39m\u001b[38;5;241m.\u001b[39m_exception\n\u001b[0;32m    404\u001b[0m     \u001b[38;5;28;01mfinally\u001b[39;00m:\n\u001b[0;32m    405\u001b[0m         \u001b[38;5;66;03m# Break a reference cycle with the exception in self._exception\u001b[39;00m\n\u001b[0;32m    406\u001b[0m         \u001b[38;5;28mself\u001b[39m \u001b[38;5;241m=\u001b[39m \u001b[38;5;28;01mNone\u001b[39;00m\n",
      "\u001b[1;31mTypeError\u001b[0m: ufunc 'isnan' not supported for the input types, and the inputs could not be safely coerced to any supported types according to the casting rule ''safe''"
     ]
    }
   ],
   "source": [
    "from sklearn.impute import SimpleImputer\n",
    "def predecirNuevoPaciente(EDAD=19, SEXO=2, ESTEROIDES=1, ANTIVIRALES=1, FATIGA=2, MALESTAR=1, ANOREXIA=1, HÍGADOGRANDE=2, HÍGADOFIRME=2, ESPÍLEOPALPABLE=1, ARAÑAS=1, ASCITIS=1, VARICES=1, BILIRRUBINA=0.25, ALKFOSFATO=46, SGOT=43, ALBÚMINA=3.5, PROTIMA=70):\n",
    "    cnames = ['EDAD', 'SEXO', 'ESTEROIDES', 'ANTIVIRALES', 'FATIGA', 'MALESTAR', 'ANOREXIA', ' HÍGADO GRANDE', 'HÍGADO FIRME', 'ESPÍLEO PALPABLE', 'ARAÑAS', 'ASCITIS', 'VARICES', 'BILIRRUBINA', 'ALK FOSFATO', 'SGOT', 'ALBÚMINA', 'PROTIMA']\n",
    "    Xnew = [EDAD, SEXO, ESTEROIDES, ANTIVIRALES, FATIGA, MALESTAR, ANOREXIA, HÍGADOGRANDE, HÍGADOFIRME, ESPÍLEOPALPABLE, ARAÑAS, ASCITIS, VARICES, BILIRRUBINA, ALKFOSFATO, SGOT, ALBÚMINA, PROTIMA]\n",
    "    \n",
    "    Xnew_Dataframe = pd.DataFrame(data=[Xnew], columns=cnames)\n",
    "    print(Xnew_Dataframe.shape)\n",
    "    #pipe = cargarPipeline(\"pipePreprocesadores\")\n",
    "    Xnew_Transformado = pipe.transform(Xnew_Dataframe)\n",
    "    \n",
    "    #modelo = cargarModelo(\"modeloOptimizadoKNN\")\n",
    "    imputer = SimpleImputer(strategy='mean')\n",
    "    Xnew_Transformado_filled = imputer.fit_transform(Xnew_Transformado)\n",
    "  \n",
    "    print (Xnew_Transformado_filled)\n",
    "predecirNuevoPaciente() \n",
    "\n"
   ]
  },
  {
   "cell_type": "code",
   "execution_count": 11,
   "id": "cc724afc",
   "metadata": {},
   "outputs": [
    {
     "ename": "ValueError",
     "evalue": "columns are missing: {'ALBÚMINA', 'BILIRRUBINA', 'SGOT', 'ALK FOSFATO', 'PROTIMA', 'EDAD'}",
     "output_type": "error",
     "traceback": [
      "\u001b[1;31m---------------------------------------------------------------------------\u001b[0m",
      "\u001b[1;31mValueError\u001b[0m                                Traceback (most recent call last)",
      "Cell \u001b[1;32mIn[11], line 43\u001b[0m\n\u001b[0;32m     40\u001b[0m     np\u001b[38;5;241m.\u001b[39mset_printoptions(formatter\u001b[38;5;241m=\u001b[39m{\u001b[38;5;124m'\u001b[39m\u001b[38;5;124mfloat\u001b[39m\u001b[38;5;124m'\u001b[39m: \u001b[38;5;28;01mlambda\u001b[39;00m X: \u001b[38;5;124m\"\u001b[39m\u001b[38;5;132;01m{0:0.0f}\u001b[39;00m\u001b[38;5;124m\"\u001b[39m\u001b[38;5;241m.\u001b[39mformat(X)})\n\u001b[0;32m     41\u001b[0m     \u001b[38;5;28;01mreturn\u001b[39;00m dataframeFinal\n\u001b[1;32m---> 43\u001b[0m \u001b[43mpredecirNuevo\u001b[49m\u001b[43m(\u001b[49m\u001b[43m)\u001b[49m\n",
      "Cell \u001b[1;32mIn[11], line 32\u001b[0m, in \u001b[0;36mpredecirNuevo\u001b[1;34m(country, sex, age, height, weight, bmi, blood_type, insurance, income, race, immigrant, smoking, alcohol, cannabis, amphetamines, cocaine, lsd, mdma, rate_reducing_risk_single, rate_reducing_risk_single_social_distancing, rate_reducing_risk_single_washing_hands, rate_reducing_risk_house, rate_reducing_risk_house_social_distancing, rate_reducing_risk_house_washing_hands, rate_reducing_risk_single_sanitizer, rate_reducing_mask, rate_government_action, rate_government_control, rate_government_spend, covid19_positive, covid19_contact, asthma, kidney_disease, liver_disease, compromised_immune, heart_disease, lung_disease, diabetes, hiv_positive, hypertension, other_chronic, nursing_home)\u001b[0m\n\u001b[0;32m     28\u001b[0m Xnew_Dataframe \u001b[38;5;241m=\u001b[39m pd\u001b[38;5;241m.\u001b[39mDataFrame(data\u001b[38;5;241m=\u001b[39m[Xnew], columns\u001b[38;5;241m=\u001b[39mcnames)\n\u001b[0;32m     31\u001b[0m pipe\u001b[38;5;241m=\u001b[39mcargarPipeline(\u001b[38;5;124m\"\u001b[39m\u001b[38;5;124mpipePreprocesadores\u001b[39m\u001b[38;5;124m\"\u001b[39m)\n\u001b[1;32m---> 32\u001b[0m Xnew_Transformado\u001b[38;5;241m=\u001b[39m\u001b[43mpipe\u001b[49m\u001b[38;5;241;43m.\u001b[39;49m\u001b[43mtransform\u001b[49m\u001b[43m(\u001b[49m\u001b[43mXnew_Dataframe\u001b[49m\u001b[43m)\u001b[49m\n\u001b[0;32m     34\u001b[0m dataframeTransformado\u001b[38;5;241m=\u001b[39mcr\u001b[38;5;241m.\u001b[39mdrop([\u001b[38;5;124m'\u001b[39m\u001b[38;5;124mrisk_mortality\u001b[39m\u001b[38;5;124m'\u001b[39m], axis\u001b[38;5;241m=\u001b[39m\u001b[38;5;241m1\u001b[39m)\n\u001b[0;32m     35\u001b[0m Xnew_Transformado \u001b[38;5;241m=\u001b[39m pd\u001b[38;5;241m.\u001b[39mDataFrame(Xnew_Transformado, columns\u001b[38;5;241m=\u001b[39mdataframeTransformado\u001b[38;5;241m.\u001b[39mcolumns)\n",
      "File \u001b[1;32m~\\anaconda3\\lib\\site-packages\\sklearn\\pipeline.py:658\u001b[0m, in \u001b[0;36mPipeline.transform\u001b[1;34m(self, X)\u001b[0m\n\u001b[0;32m    656\u001b[0m Xt \u001b[38;5;241m=\u001b[39m X\n\u001b[0;32m    657\u001b[0m \u001b[38;5;28;01mfor\u001b[39;00m _, _, transform \u001b[38;5;129;01min\u001b[39;00m \u001b[38;5;28mself\u001b[39m\u001b[38;5;241m.\u001b[39m_iter():\n\u001b[1;32m--> 658\u001b[0m     Xt \u001b[38;5;241m=\u001b[39m \u001b[43mtransform\u001b[49m\u001b[38;5;241;43m.\u001b[39;49m\u001b[43mtransform\u001b[49m\u001b[43m(\u001b[49m\u001b[43mXt\u001b[49m\u001b[43m)\u001b[49m\n\u001b[0;32m    659\u001b[0m \u001b[38;5;28;01mreturn\u001b[39;00m Xt\n",
      "File \u001b[1;32m~\\anaconda3\\lib\\site-packages\\sklearn\\utils\\_set_output.py:142\u001b[0m, in \u001b[0;36m_wrap_method_output.<locals>.wrapped\u001b[1;34m(self, X, *args, **kwargs)\u001b[0m\n\u001b[0;32m    140\u001b[0m \u001b[38;5;129m@wraps\u001b[39m(f)\n\u001b[0;32m    141\u001b[0m \u001b[38;5;28;01mdef\u001b[39;00m \u001b[38;5;21mwrapped\u001b[39m(\u001b[38;5;28mself\u001b[39m, X, \u001b[38;5;241m*\u001b[39margs, \u001b[38;5;241m*\u001b[39m\u001b[38;5;241m*\u001b[39mkwargs):\n\u001b[1;32m--> 142\u001b[0m     data_to_wrap \u001b[38;5;241m=\u001b[39m f(\u001b[38;5;28mself\u001b[39m, X, \u001b[38;5;241m*\u001b[39margs, \u001b[38;5;241m*\u001b[39m\u001b[38;5;241m*\u001b[39mkwargs)\n\u001b[0;32m    143\u001b[0m     \u001b[38;5;28;01mif\u001b[39;00m \u001b[38;5;28misinstance\u001b[39m(data_to_wrap, \u001b[38;5;28mtuple\u001b[39m):\n\u001b[0;32m    144\u001b[0m         \u001b[38;5;66;03m# only wrap the first output for cross decomposition\u001b[39;00m\n\u001b[0;32m    145\u001b[0m         \u001b[38;5;28;01mreturn\u001b[39;00m (\n\u001b[0;32m    146\u001b[0m             _wrap_data_with_container(method, data_to_wrap[\u001b[38;5;241m0\u001b[39m], X, \u001b[38;5;28mself\u001b[39m),\n\u001b[0;32m    147\u001b[0m             \u001b[38;5;241m*\u001b[39mdata_to_wrap[\u001b[38;5;241m1\u001b[39m:],\n\u001b[0;32m    148\u001b[0m         )\n",
      "File \u001b[1;32m~\\anaconda3\\lib\\site-packages\\sklearn\\compose\\_column_transformer.py:794\u001b[0m, in \u001b[0;36mColumnTransformer.transform\u001b[1;34m(self, X)\u001b[0m\n\u001b[0;32m    792\u001b[0m     diff \u001b[38;5;241m=\u001b[39m all_names \u001b[38;5;241m-\u001b[39m \u001b[38;5;28mset\u001b[39m(X\u001b[38;5;241m.\u001b[39mcolumns)\n\u001b[0;32m    793\u001b[0m     \u001b[38;5;28;01mif\u001b[39;00m diff:\n\u001b[1;32m--> 794\u001b[0m         \u001b[38;5;28;01mraise\u001b[39;00m \u001b[38;5;167;01mValueError\u001b[39;00m(\u001b[38;5;124mf\u001b[39m\u001b[38;5;124m\"\u001b[39m\u001b[38;5;124mcolumns are missing: \u001b[39m\u001b[38;5;132;01m{\u001b[39;00mdiff\u001b[38;5;132;01m}\u001b[39;00m\u001b[38;5;124m\"\u001b[39m)\n\u001b[0;32m    795\u001b[0m \u001b[38;5;28;01melse\u001b[39;00m:\n\u001b[0;32m    796\u001b[0m     \u001b[38;5;66;03m# ndarray was used for fitting or transforming, thus we only\u001b[39;00m\n\u001b[0;32m    797\u001b[0m     \u001b[38;5;66;03m# check that n_features_in_ is consistent\u001b[39;00m\n\u001b[0;32m    798\u001b[0m     \u001b[38;5;28mself\u001b[39m\u001b[38;5;241m.\u001b[39m_check_n_features(X, reset\u001b[38;5;241m=\u001b[39m\u001b[38;5;28;01mFalse\u001b[39;00m)\n",
      "\u001b[1;31mValueError\u001b[0m: columns are missing: {'ALBÚMINA', 'BILIRRUBINA', 'SGOT', 'ALK FOSFATO', 'PROTIMA', 'EDAD'}"
     ]
    }
   ],
   "source": [
    "import pandas as pd\n",
    "import numpy as np\n",
    "\n",
    "def predecirNuevo(country='CA', sex='female', age='30_40', height=166.0, weight=55.0, bmi=23.1, blood_type='op', insurance=np.nan,\n",
    "                        income=np.nan, race=np.nan, immigrant=np.nan, smoking='never', alcohol=0, cannabis=-1, amphetamines=-1,\n",
    "                        cocaine=-1, lsd=-1, mdma=-1, rate_reducing_risk_single=0, rate_reducing_risk_single_social_distancing=0,\n",
    "                        rate_reducing_risk_single_washing_hands=0, rate_reducing_risk_house=0, rate_reducing_risk_house_social_distancing=0,\n",
    "                        rate_reducing_risk_house_washing_hands=0, rate_reducing_risk_single_sanitizer=0, rate_reducing_mask=4,\n",
    "                        rate_government_action=1, rate_government_control=0, rate_government_spend=0, covid19_positive=0, covid19_contact=0,\n",
    "                        asthma=0, kidney_disease=0, liver_disease=0, compromised_immune=0, heart_disease=0, lung_disease=0, diabetes=0,\n",
    "                        hiv_positive=0, hypertension=0, other_chronic=0, nursing_home=0):\n",
    "    \n",
    "    cnames = ['country', 'sex', 'age', 'height', 'weight', 'bmi', 'blood_type', 'insurance', 'income', 'race', 'immigrant',\n",
    "              'smoking', 'alcohol', 'cannabis', 'amphetamines', 'cocaine', 'lsd', 'mdma', 'rate_reducing_risk_single',\n",
    "              'rate_reducing_risk_single_social_distancing', 'rate_reducing_risk_single_washing_hands', 'rate_reducing_risk_house',\n",
    "              'rate_reducing_risk_house_social_distancing', 'rate_reducing_risk_house_washing_hands', 'rate_reducing_risk_single_sanitizer',\n",
    "              'rate_reducing_mask', 'rate_government_action', 'rate_government_control', 'rate_government_spend', 'covid19_positive',\n",
    "              'covid19_contact', 'asthma', 'kidney_disease', 'liver_disease', 'compromised_immune', 'heart_disease', 'lung_disease',\n",
    "              'diabetes', 'hiv_positive', 'hypertension', 'other_chronic', 'nursing_home']\n",
    "\n",
    "    Xnew = [country, sex, age, height, weight, bmi, blood_type, insurance, income, race, immigrant, smoking, alcohol,\n",
    "            cannabis, amphetamines, cocaine, lsd, mdma, rate_reducing_risk_single, rate_reducing_risk_single_social_distancing,\n",
    "            rate_reducing_risk_single_washing_hands, rate_reducing_risk_house, rate_reducing_risk_house_social_distancing,\n",
    "            rate_reducing_risk_house_washing_hands, rate_reducing_risk_single_sanitizer, rate_reducing_mask, rate_government_action,\n",
    "            rate_government_control, rate_government_spend, covid19_positive, covid19_contact, asthma, kidney_disease, liver_disease,\n",
    "            compromised_immune, heart_disease, lung_disease, diabetes, hiv_positive, hypertension, other_chronic, nursing_home]\n",
    "  \n",
    "    Xnew_Dataframe = pd.DataFrame(data=[Xnew], columns=cnames)\n",
    "    \n",
    "\n",
    "    pipe=cargarPipeline(\"pipePreprocesadores\")\n",
    "    Xnew_Transformado=pipe.transform(Xnew_Dataframe)\n",
    "   \n",
    "    dataframeTransformado=cr.drop(['risk_mortality'], axis=1)\n",
    "    Xnew_Transformado = pd.DataFrame(Xnew_Transformado, columns=dataframeTransformado.columns)\n",
    "    \n",
    "    y_pred = model.predict(Xnew_Dataframe)\n",
    "    predicciones, marcas, certezas = obtenerResultadosyCertezas(y_pred)\n",
    "    dataframeFinal = pd.DataFrame({'Predicción': predicciones, 'Resultado': marcas, 'Certeza': certezas})\n",
    "    np.set_printoptions(formatter={'float': lambda X: \"{0:0.0f}\".format(X)})\n",
    "    return dataframeFinal\n",
    "\n",
    "predecirNuevo() "
   ]
  },
  {
   "cell_type": "code",
   "execution_count": null,
   "id": "cbc03187",
   "metadata": {},
   "outputs": [],
   "source": [
    "dataframeFinal=predecirNuevo(country='CA',sex='female',age='70_80',height=166.0,weight=55.0,bmi=23.1,blood_type='op',insurance=np.nan,\n",
    "                        income=np.nan,race=np.nan,immigrant=np.nan,smoking='never',alcohol=0,cannabis=-1,amphetamines=-1,\n",
    "                        cocaine=-1,lsd=-1,mdma=-1,rate_reducing_risk_single=0,rate_reducing_risk_single_social_distancing=0,\n",
    "                        rate_reducing_risk_single_washing_hands=0,rate_reducing_risk_house=0,rate_reducing_risk_house_social_distancing=0,\n",
    "                        rate_reducing_risk_house_washing_hands=0,rate_reducing_risk_single_sanitizer=0,rate_reducing_mask=4,\n",
    "                        rate_government_action=1,rate_government_control=0,rate_government_spend=0,covid19_positive=0,covid19_contact=0,\n",
    "                        asthma=0,kidney_disease=0,liver_disease=0,compromised_immune=0,heart_disease=0,lung_disease=0,diabetes=0,\n",
    "                        hiv_positive=0,hypertension=0,other_chronic=0,nursing_home=0)\n",
    "dataframeFinal.head()"
   ]
  }
 ],
 "metadata": {
  "kernelspec": {
   "display_name": "Python 3 (ipykernel)",
   "language": "python",
   "name": "python3"
  },
  "language_info": {
   "codemirror_mode": {
    "name": "ipython",
    "version": 3
   },
   "file_extension": ".py",
   "mimetype": "text/x-python",
   "name": "python",
   "nbconvert_exporter": "python",
   "pygments_lexer": "ipython3",
   "version": "3.10.9"
  }
 },
 "nbformat": 4,
 "nbformat_minor": 5
}
