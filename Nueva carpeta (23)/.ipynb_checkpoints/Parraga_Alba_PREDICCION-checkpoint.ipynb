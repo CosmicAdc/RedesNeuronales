{
 "cells": [
  {
   "cell_type": "markdown",
   "id": "4f8b9158",
   "metadata": {},
   "source": [
    "<img src=\"https://upload.wikimedia.org/wikipedia/commons/b/b0/Logo_Universidad_Politécnica_Salesiana_del_Ecuador.png\" width=\"90%\">\n",
    "<h2>Práctica 1:\n",
    "    Redes neuronales</h2>\n",
    "<h3>Integrantes: Michelle Parraga, Andrés Alba </h3>"
   ]
  },
  {
   "cell_type": "markdown",
   "id": "4634b272",
   "metadata": {},
   "source": [
    "En otro cuaderno de Jupyter cargar el modelo del archivo h5 y crear una función de predicción para un nuevo \n",
    "sample (Probar como mínimo, un caso por clase. Es decir, si hay dos clases, probar el método de predicción al \n",
    "menos con dos ejemplos, un ejemplo por cada clase)\n"
   ]
  },
  {
   "cell_type": "code",
   "execution_count": 140,
   "id": "b563035c",
   "metadata": {},
   "outputs": [
    {
     "name": "stdout",
     "output_type": "stream",
     "text": [
      "Funciones definidas\n"
     ]
    }
   ],
   "source": [
    "import joblib\n",
    "import pandas as pd\n",
    "import numpy as np\n",
    "import pickle\n",
    "import keras\n",
    "from sklearn import metrics \n",
    "from keras.models import load_model\n",
    "import numpy as np\n",
    "from sklearn.impute import SimpleImputer\n",
    "from sklearn.preprocessing import OneHotEncoder, StandardScaler, OrdinalEncoder, MinMaxScaler\n",
    "from sklearn.compose import make_column_transformer, ColumnTransformer\n",
    "from sklearn.pipeline import Pipeline\n",
    "\n",
    "def cargarPipeline(nombreArchivo):\n",
    "    with open(nombreArchivo+'.pickle', 'rb') as handle:\n",
    "        pipeline = pickle.load(handle)\n",
    "    return pipeline\n",
    "\n",
    "def cargarRNN(nombreArchivo):\n",
    "    model = load_model(nombreArchivo+'.h5')    \n",
    "    print(\"Red Neuronal Cargada desde Archivo\") \n",
    "    return model\n",
    "\n",
    "\n",
    "def obtenerResultadosyCertezas(lista):\n",
    "    predicciones = []\n",
    "    marcas=[]\n",
    "    certezas=[]\n",
    "    nuevomax=1\n",
    "    nuevomin=0\n",
    "    marca=-1\n",
    "    certeza=-1\n",
    "    for i in range(len(lista)):\n",
    "\n",
    "        prediccion = round(lista[i], 6)\n",
    "        if (prediccion < 0.5):\n",
    "            marca = 'NO se tiene riesgo de muerte Hepatitis'\n",
    "            maxa=0.5\n",
    "            mina=0\n",
    "            certeza=1-((prediccion-mina)/(maxa-mina)*(nuevomax-nuevomin)+nuevomin)\n",
    "            certeza=str(int((certeza)*100))+'%'\n",
    "        elif (prediccion >= 0.5):\n",
    "            marca = 'Puede tener riesgo de muerte por Hepatitis'\n",
    "            maxa=1\n",
    "            mina=0.5\n",
    "            certeza=(prediccion-mina)/(maxa-mina)*(nuevomax-nuevomin)+nuevomin\n",
    "            certeza=str(int((certeza)*100))+'%'\n",
    "        predicciones.append(prediccion)\n",
    "        marcas.append(marca)\n",
    "        certezas.append(certeza)\n",
    "        resultados = {\n",
    "            'Prediccion': predicciones,\n",
    "            'Marca': marcas,\n",
    "            'Certeza': certezas\n",
    "        }\n",
    "\n",
    "        df_resultados = pd.DataFrame(resultados)\n",
    "        return df_resultados\n",
    "\n",
    "\n",
    "print('Funciones definidas')\n"
   ]
  },
  {
   "cell_type": "code",
   "execution_count": 141,
   "id": "a5b6ab8c",
   "metadata": {
    "scrolled": true
   },
   "outputs": [
    {
     "name": "stdout",
     "output_type": "stream",
     "text": [
      "Red Neuronal Cargada desde Archivo\n",
      "Pipeline(steps=[('prepcn',\n",
      "                 ColumnTransformer(n_jobs=-1, remainder='passthrough',\n",
      "                                   transformers=[('catord',\n",
      "                                                  Pipeline(steps=[('ordinal',\n",
      "                                                                   OrdinalEncoder())]),\n",
      "                                                  []),\n",
      "                                                 ('catnom',\n",
      "                                                  Pipeline(steps=[('onehot',\n",
      "                                                                   OneHotEncoder(handle_unknown='ignore',\n",
      "                                                                                 sparse=False))]),\n",
      "                                                  ['SEXO', 'ESTEROIDES',\n",
      "                                                   'ANTIVIRALES', 'FATIGA',\n",
      "                                                   'MALESTAR', 'ANOREXIA',\n",
      "                                                   ' HÍGADO GRANDE',\n",
      "                                                   'HÍGADO FIRME',\n",
      "                                                   'ESPÍLEO PALPABLE', 'ARAÑAS',\n",
      "                                                   'ASCITIS', 'VARICES'])])),\n",
      "                ('prepminmax',\n",
      "                 ColumnTransformer(remainder='passthrough',\n",
      "                                   transformers=[('tranminmax',\n",
      "                                                  Pipeline(steps=[('minmax',\n",
      "                                                                   MinMaxScaler())]),\n",
      "                                                  [0, 1, 2, 3, 4, 5, 6, 7, 8, 9,\n",
      "                                                   10, 11, 12, 13, 14, 15, 16,\n",
      "                                                   17, 18, 19, 20, 21, 22, 23,\n",
      "                                                   24, 25, 26, 27, 28, 29, ...])]))])\n"
     ]
    }
   ],
   "source": [
    "pipe=None\n",
    "pipe=cargarPipeline('pipePreprocesadores')\n",
    "model=cargarRNN(\"RNNHepatitis\")\n",
    "print (pipe)"
   ]
  },
  {
   "cell_type": "code",
   "execution_count": 142,
   "id": "ffea0a9c",
   "metadata": {},
   "outputs": [
    {
     "name": "stdout",
     "output_type": "stream",
     "text": [
      "1/1 [==============================] - 0s 110ms/step\n"
     ]
    },
    {
     "data": {
      "text/html": [
       "<div>\n",
       "<style scoped>\n",
       "    .dataframe tbody tr th:only-of-type {\n",
       "        vertical-align: middle;\n",
       "    }\n",
       "\n",
       "    .dataframe tbody tr th {\n",
       "        vertical-align: top;\n",
       "    }\n",
       "\n",
       "    .dataframe thead th {\n",
       "        text-align: right;\n",
       "    }\n",
       "</style>\n",
       "<table border=\"1\" class=\"dataframe\">\n",
       "  <thead>\n",
       "    <tr style=\"text-align: right;\">\n",
       "      <th></th>\n",
       "      <th>Prediccion</th>\n",
       "      <th>Marca</th>\n",
       "      <th>Certeza</th>\n",
       "    </tr>\n",
       "  </thead>\n",
       "  <tbody>\n",
       "    <tr>\n",
       "      <th>0</th>\n",
       "      <td>1.0</td>\n",
       "      <td>Puede tener riesgo de muerte por Hepatitis</td>\n",
       "      <td>100%</td>\n",
       "    </tr>\n",
       "  </tbody>\n",
       "</table>\n",
       "</div>"
      ],
      "text/plain": [
       "   Prediccion                                       Marca Certeza\n",
       "0         1.0  Puede tener riesgo de muerte por Hepatitis    100%"
      ]
     },
     "execution_count": 142,
     "metadata": {},
     "output_type": "execute_result"
    }
   ],
   "source": [
    "from sklearn.impute import SimpleImputer\n",
    "\n",
    "def predecirNuevoPaciente(EDAD=70, SEXO=1, ESTEROIDES=1, ANTIVIRALES=2, FATIGA=2, MALESTAR=1, ANOREXIA=1, HÍGADOGRANDE=2, HÍGADOFIRME=2, ESPÍLEOPALPABLE=2, ARAÑAS=1, ASCITIS=1, VARICES=2, BILIRRUBINA=1.00, ALKFOSFATO=85, SGOT=42, ALBÚMINA=3.5, PROTIMA=80):\n",
    "    cnames = ['EDAD', 'SEXO', 'ESTEROIDES', 'ANTIVIRALES', 'FATIGA', 'MALESTAR', 'ANOREXIA', ' HÍGADO GRANDE', 'HÍGADO FIRME', 'ESPÍLEO PALPABLE', 'ARAÑAS', 'ASCITIS', 'VARICES', 'BILIRRUBINA', 'ALK FOSFATO', 'SGOT', 'ALBÚMINA', 'PROTIMA']\n",
    "    Xnew = [EDAD, SEXO, ESTEROIDES, ANTIVIRALES, FATIGA, MALESTAR, ANOREXIA, HÍGADOGRANDE, HÍGADOFIRME, ESPÍLEOPALPABLE, ARAÑAS, ASCITIS, VARICES, BILIRRUBINA, ALKFOSFATO, SGOT, ALBÚMINA, PROTIMA]\n",
    "    Xnew_Dataframe = pd.DataFrame(data=[Xnew], columns=cnames)\n",
    "\n",
    "    # Convertir todas las variables (excepto EDAD, SEXO y ANTIVIRALES) a tipo object\n",
    "    variables_object = Xnew_Dataframe.columns.drop(['EDAD', 'SEXO', 'ANTIVIRALES'])\n",
    "    Xnew_Dataframe[variables_object] = Xnew_Dataframe[variables_object].astype('object')\n",
    "    Xnew_Transformado = pipe.transform(Xnew_Dataframe)\n",
    "    y_pred = model.predict(Xnew_Transformado)\n",
    "    y_pred = y_pred.flatten()\n",
    "    df_result=obtenerResultadosyCertezas(y_pred)\n",
    "    return  df_result\n",
    "    \n",
    "predecirNuevoPaciente()\n",
    "\n",
    "\n"
   ]
  },
  {
   "cell_type": "code",
   "execution_count": 149,
   "id": "32ea7858",
   "metadata": {},
   "outputs": [
    {
     "name": "stdout",
     "output_type": "stream",
     "text": [
      "1/1 [==============================] - 0s 31ms/step\n"
     ]
    },
    {
     "data": {
      "text/html": [
       "<div>\n",
       "<style scoped>\n",
       "    .dataframe tbody tr th:only-of-type {\n",
       "        vertical-align: middle;\n",
       "    }\n",
       "\n",
       "    .dataframe tbody tr th {\n",
       "        vertical-align: top;\n",
       "    }\n",
       "\n",
       "    .dataframe thead th {\n",
       "        text-align: right;\n",
       "    }\n",
       "</style>\n",
       "<table border=\"1\" class=\"dataframe\">\n",
       "  <thead>\n",
       "    <tr style=\"text-align: right;\">\n",
       "      <th></th>\n",
       "      <th>Prediccion</th>\n",
       "      <th>Marca</th>\n",
       "      <th>Certeza</th>\n",
       "    </tr>\n",
       "  </thead>\n",
       "  <tbody>\n",
       "    <tr>\n",
       "      <th>0</th>\n",
       "      <td>0.0</td>\n",
       "      <td>NO se tiene riesgo de muerte Hepatitis</td>\n",
       "      <td>100%</td>\n",
       "    </tr>\n",
       "  </tbody>\n",
       "</table>\n",
       "</div>"
      ],
      "text/plain": [
       "   Prediccion                                   Marca Certeza\n",
       "0         0.0  NO se tiene riesgo de muerte Hepatitis    100%"
      ]
     },
     "execution_count": 149,
     "metadata": {},
     "output_type": "execute_result"
    }
   ],
   "source": [
    "\n",
    "def predecirNuevoPaciente(EDAD=19, SEXO=1, ESTEROIDES=2, ANTIVIRALES=1, FATIGA=1, MALESTAR=1, ANOREXIA=2, HÍGADOGRANDE=2, HÍGADOFIRME=1, ESPÍLEOPALPABLE=2, ARAÑAS=1, ASCITIS=1, VARICES=2, BILIRRUBINA=0, ALKFOSFATO=0, SGOT=0, ALBÚMINA=0, PROTIMA=0):\n",
    "    cnames = ['EDAD', 'SEXO', 'ESTEROIDES', 'ANTIVIRALES', 'FATIGA', 'MALESTAR', 'ANOREXIA', ' HÍGADO GRANDE', 'HÍGADO FIRME', 'ESPÍLEO PALPABLE', 'ARAÑAS', 'ASCITIS', 'VARICES', 'BILIRRUBINA', 'ALK FOSFATO', 'SGOT', 'ALBÚMINA', 'PROTIMA']\n",
    "    Xnew = [EDAD, SEXO, ESTEROIDES, ANTIVIRALES, FATIGA, MALESTAR, ANOREXIA, HÍGADOGRANDE, HÍGADOFIRME, ESPÍLEOPALPABLE, ARAÑAS, ASCITIS, VARICES, BILIRRUBINA, ALKFOSFATO, SGOT, ALBÚMINA, PROTIMA]\n",
    "    Xnew_Dataframe = pd.DataFrame(data=[Xnew], columns=cnames)\n",
    "\n",
    "    # Convertir todas las variables (excepto EDAD, SEXO y ANTIVIRALES) a tipo object\n",
    "    variables_object = Xnew_Dataframe.columns.drop(['EDAD', 'SEXO', 'ANTIVIRALES'])\n",
    "    Xnew_Dataframe[variables_object] = Xnew_Dataframe[variables_object].astype('object')\n",
    "    Xnew_Transformado = pipe.transform(Xnew_Dataframe)\n",
    "    y_pred = model.predict(Xnew_Transformado)\n",
    "    y_pred = y_pred.flatten()\n",
    "    df_result=obtenerResultadosyCertezas(y_pred)\n",
    "    return  df_result\n",
    "    \n",
    "predecirNuevoPaciente()"
   ]
  }
 ],
 "metadata": {
  "kernelspec": {
   "display_name": "Python 3 (ipykernel)",
   "language": "python",
   "name": "python3"
  },
  "language_info": {
   "codemirror_mode": {
    "name": "ipython",
    "version": 3
   },
   "file_extension": ".py",
   "mimetype": "text/x-python",
   "name": "python",
   "nbconvert_exporter": "python",
   "pygments_lexer": "ipython3",
   "version": "3.10.9"
  }
 },
 "nbformat": 4,
 "nbformat_minor": 5
}
